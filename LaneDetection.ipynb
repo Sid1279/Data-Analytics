{
 "cells": [
  {
   "cell_type": "code",
   "execution_count": 18,
   "id": "73838cff",
   "metadata": {},
   "outputs": [
    {
     "name": "stdout",
     "output_type": "stream",
     "text": [
      "Requirement already satisfied: opencv-python in c:\\users\\siddh\\anaconda3\\lib\\site-packages (4.7.0.68)\n",
      "Requirement already satisfied: numpy>=1.19.3 in c:\\users\\siddh\\anaconda3\\lib\\site-packages (from opencv-python) (1.21.5)\n",
      "Note: you may need to restart the kernel to use updated packages.\n"
     ]
    }
   ],
   "source": [
    "pip install opencv-python"
   ]
  },
  {
   "cell_type": "code",
   "execution_count": 26,
   "id": "2e6da612",
   "metadata": {},
   "outputs": [
    {
     "ename": "ModuleNotFoundError",
     "evalue": "No module named 'google.colab'",
     "output_type": "error",
     "traceback": [
      "\u001b[1;31m---------------------------------------------------------------------------\u001b[0m",
      "\u001b[1;31mModuleNotFoundError\u001b[0m                       Traceback (most recent call last)",
      "\u001b[1;32m~\\AppData\\Local\\Temp\\ipykernel_14024\\471087408.py\u001b[0m in \u001b[0;36m<module>\u001b[1;34m\u001b[0m\n\u001b[0;32m      2\u001b[0m \u001b[1;32mimport\u001b[0m \u001b[0mnumpy\u001b[0m \u001b[1;32mas\u001b[0m \u001b[0mnp\u001b[0m\u001b[1;33m\u001b[0m\u001b[1;33m\u001b[0m\u001b[0m\n\u001b[0;32m      3\u001b[0m \u001b[1;32mfrom\u001b[0m \u001b[0mPIL\u001b[0m \u001b[1;32mimport\u001b[0m \u001b[0mImage\u001b[0m\u001b[1;33m\u001b[0m\u001b[1;33m\u001b[0m\u001b[0m\n\u001b[1;32m----> 4\u001b[1;33m \u001b[1;32mfrom\u001b[0m \u001b[0mgoogle\u001b[0m\u001b[1;33m.\u001b[0m\u001b[0mcolab\u001b[0m\u001b[1;33m.\u001b[0m\u001b[0mpatches\u001b[0m \u001b[1;32mimport\u001b[0m \u001b[0mcv2_imshow\u001b[0m\u001b[1;33m\u001b[0m\u001b[1;33m\u001b[0m\u001b[0m\n\u001b[0m\u001b[0;32m      5\u001b[0m \u001b[1;33m\u001b[0m\u001b[0m\n\u001b[0;32m      6\u001b[0m \u001b[1;32mdef\u001b[0m \u001b[0mcanny\u001b[0m\u001b[1;33m(\u001b[0m\u001b[0mimg\u001b[0m\u001b[1;33m)\u001b[0m\u001b[1;33m:\u001b[0m\u001b[1;33m\u001b[0m\u001b[1;33m\u001b[0m\u001b[0m\n",
      "\u001b[1;31mModuleNotFoundError\u001b[0m: No module named 'google.colab'"
     ]
    }
   ],
   "source": [
    "import cv2\n",
    "import numpy as np\n",
    "from PIL import Image\n",
    "from google.colab.patches import cv2_imshow\n",
    " \n",
    "def canny(img):\n",
    "  #Turn image grayscale and do edge detection (5x5 Gaussian blur)\n",
    "  gray = cv2.cvtColor(img, cv2.COLOR_RGB2GRAY)\n",
    "  kernel = 5\n",
    "  blur = cv2.GaussianBlur(gray, (kernel, kernel), 0)\n",
    "  canny = cv2.Canny(gray, 50, 150) #Type of edge detection we're doing\n",
    "  return canny\n",
    "\n",
    "def region_of_interest(canny):\n",
    "  #Define area of the image we want to consider (ie. lane we're in)\n",
    "  height = canny.shape[0]\n",
    "  width = canny.shape[1]\n",
    "  #Create array the size of video, with all values 0 (ie. all black)\n",
    "  mask = np.zeros_like(canny)\n",
    "  triangle = np.array([[(200, height), (550, 250), (1100, height),]], np.int32)\n",
    "  #Fill mask with triangle shape\n",
    "  cv2.fillPoly(mask, triangle, 255)\n",
    "  masked_image = cv2.bitwise_and(canny, mask)\n",
    "  return masked_image\n",
    "\n",
    "def houghLines(cropped_canny):\n",
    "  return cv2.HoughLinesP(cropped_canny, 2, np.pi/180, 100, np.array([]), minLineLength=40, maxLineGap=5)\n",
    "\n",
    "def addWeighted(frame, line_image):\n",
    "  return cv2.addWeighted(frame, 0.8, line_image, 1, 1)\n",
    " \n",
    "def display_lines(img, lines):\n",
    "  #Overlay lines on video image (ie. make a new mask)\n",
    "  line_image = np.zeros_like(img)\n",
    "  if lines is not None:\n",
    "    for line in lines:\n",
    "      for x1, y1, x2, y2 in line:\n",
    "        cv2.line(line_image,(x1,y1),(x2,y2),(255,0,0),10)\n",
    "  return line_image\n",
    "\n",
    "def make_points(image, line):\n",
    "  slope, intercept = line\n",
    "  y1 = int(image.shape[0]) #Bottom of image\n",
    "  y2 = int(y1*0.5) #Slightly lower than middle\n",
    "  x1 = int((y1-intercept)/slope)\n",
    "  x2 = int((y2-intercept)/slope)\n",
    "  return [[x1, y1, x2, y2]]\n",
    " \n",
    "def average_slope_intercept(image, lines):\n",
    "  left_fit = []\n",
    "  right_fit = []\n",
    "  if lines is None:\n",
    "    return None\n",
    "  \n",
    "  for line in lines:\n",
    "    for x1, y1, x2, y2 in line:\n",
    "      #Return slope & intercept\n",
    "      fit = np.polyfit((x1,x2), (y1,y2), 1)\n",
    "      slope = fit[0]\n",
    "      intercept = fit[1]\n",
    "      #If slope is negative, then its left lane boundary. Else right\n",
    "      if slope <= 0:\n",
    "        left_fit.append((slope, intercept))\n",
    "      else:\n",
    "        right_fit.append((slope, intercept))\n",
    "  #Error handling - if program can't find data, add a placeholder\n",
    "  if not left_fit:\n",
    "    left_fit.append((-1, 0))\n",
    "  if not right_fit:\n",
    "    right_fit.append((1, 0))\n",
    "\n",
    "  left_average = np.average(left_fit, axis=0)\n",
    "  right_average = np.average(right_fit, axis=0)\n",
    "\n",
    "  left_line = make_points(image, left_average)\n",
    "  right_line = make_points(image, right_average)\n",
    "  averaged_lines =[left_line, right_line]\n",
    "  return averaged_lines\n",
    "\n",
    "#Main Program\n",
    "cap = cv2.VideoCapture(\"test2.mp4\")\n",
    "frame_array = []\n",
    "while(cap.isOpened()):\n",
    "  _, frame = cap.read()\n",
    "  if frame is None:\n",
    "    break\n",
    "  canny_image = canny(frame)\n",
    "  cropped_canny = region_of_interest(canny_image)\n",
    "  lines = houghLines(cropped_canny)\n",
    "  averaged_lines = average_slope_intercept(frame, lines)\n",
    "  line_image = display_lines(frame, averaged_lines)\n",
    "  combo_image = addWeighted(frame, line_image)\n",
    "  frame_array.append(combo_image)\n",
    "cap.release()\n",
    "\n",
    "cv2_imshow(frame_array[0])"
   ]
  },
  {
   "cell_type": "code",
   "execution_count": 27,
   "id": "447b729e",
   "metadata": {},
   "outputs": [
    {
     "ename": "IndexError",
     "evalue": "list index out of range",
     "output_type": "error",
     "traceback": [
      "\u001b[1;31m---------------------------------------------------------------------------\u001b[0m",
      "\u001b[1;31mIndexError\u001b[0m                                Traceback (most recent call last)",
      "\u001b[1;32m~\\AppData\\Local\\Temp\\ipykernel_14024\\2751257116.py\u001b[0m in \u001b[0;36m<module>\u001b[1;34m\u001b[0m\n\u001b[0;32m      3\u001b[0m   \u001b[0mimg_arr\u001b[0m\u001b[1;33m.\u001b[0m\u001b[0mappend\u001b[0m\u001b[1;33m(\u001b[0m\u001b[0mImage\u001b[0m\u001b[1;33m.\u001b[0m\u001b[0mfromarray\u001b[0m\u001b[1;33m(\u001b[0m\u001b[0mcv2\u001b[0m\u001b[1;33m.\u001b[0m\u001b[0mcvtColor\u001b[0m\u001b[1;33m(\u001b[0m\u001b[0mi\u001b[0m\u001b[1;33m,\u001b[0m \u001b[0mcv2\u001b[0m\u001b[1;33m.\u001b[0m\u001b[0mCOLOR_BGR2RGB\u001b[0m\u001b[1;33m)\u001b[0m\u001b[1;33m)\u001b[0m\u001b[1;33m)\u001b[0m\u001b[1;33m\u001b[0m\u001b[1;33m\u001b[0m\u001b[0m\n\u001b[0;32m      4\u001b[0m \u001b[1;33m\u001b[0m\u001b[0m\n\u001b[1;32m----> 5\u001b[1;33m \u001b[0mimg_arr\u001b[0m\u001b[1;33m[\u001b[0m\u001b[1;36m0\u001b[0m\u001b[1;33m]\u001b[0m\u001b[1;33m.\u001b[0m\u001b[0msave\u001b[0m\u001b[1;33m(\u001b[0m\u001b[1;34m\"yay.gif\"\u001b[0m\u001b[1;33m,\u001b[0m \u001b[0msave_all\u001b[0m\u001b[1;33m=\u001b[0m\u001b[1;32mTrue\u001b[0m\u001b[1;33m,\u001b[0m \u001b[0mappend_images\u001b[0m\u001b[1;33m=\u001b[0m\u001b[0mimg_arr\u001b[0m\u001b[1;33m[\u001b[0m\u001b[1;36m1\u001b[0m\u001b[1;33m:\u001b[0m\u001b[1;36m1000\u001b[0m\u001b[1;33m]\u001b[0m\u001b[1;33m,\u001b[0m \u001b[0moptimize\u001b[0m\u001b[1;33m=\u001b[0m\u001b[1;32mFalse\u001b[0m\u001b[1;33m)\u001b[0m\u001b[1;33m\u001b[0m\u001b[1;33m\u001b[0m\u001b[0m\n\u001b[0m",
      "\u001b[1;31mIndexError\u001b[0m: list index out of range"
     ]
    }
   ],
   "source": [
    "img_arr = []\n",
    "for i in frame_array:\n",
    "  img_arr.append(Image.fromarray(cv2.cvtColor(i, cv2.COLOR_BGR2RGB)))\n",
    "\n",
    "img_arr[0].save(\"yay.gif\", save_all=True, append_images=img_arr[1:1000], optimize=False)"
   ]
  },
  {
   "cell_type": "code",
   "execution_count": null,
   "id": "7987c60d",
   "metadata": {},
   "outputs": [],
   "source": []
  }
 ],
 "metadata": {
  "kernelspec": {
   "display_name": "Python 3 (ipykernel)",
   "language": "python",
   "name": "python3"
  },
  "language_info": {
   "codemirror_mode": {
    "name": "ipython",
    "version": 3
   },
   "file_extension": ".py",
   "mimetype": "text/x-python",
   "name": "python",
   "nbconvert_exporter": "python",
   "pygments_lexer": "ipython3",
   "version": "3.9.13"
  }
 },
 "nbformat": 4,
 "nbformat_minor": 5
}
